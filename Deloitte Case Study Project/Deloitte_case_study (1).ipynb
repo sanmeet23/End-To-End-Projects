{
  "nbformat": 4,
  "nbformat_minor": 0,
  "metadata": {
    "colab": {
      "provenance": []
    },
    "kernelspec": {
      "name": "python3",
      "display_name": "Python 3"
    },
    "language_info": {
      "name": "python"
    }
  },
  "cells": [
    {
      "cell_type": "code",
      "source": [
        "import pandas as pd\n",
        "import numpy as np\n",
        "import calendar"
      ],
      "metadata": {
        "id": "7s4Hi0DnIkWW"
      },
      "execution_count": 2,
      "outputs": []
    },
    {
      "cell_type": "code",
      "source": [
        "input_file = 'file_path'\n",
        "output_file = 'file_path_new'\n",
        "\n",
        "# Read the data from the Excel file\n",
        "df = pd.read_excel(input_file)\n",
        "\n",
        "# Extract year, month, and quarter from the 'date' column\n",
        "df['year'] = df['Date'].str.extract(r'(\\d{4})')\n",
        "df['month'] = df['Date'].str.extract(r'M(\\d{2})').astype(int)\n",
        "df['quarter'] = df['month'].apply(lambda m: (m-1) // 3 + 1)\n",
        "\n",
        "# Save the modified data back to a new Excel file\n",
        "df.to_excel(output_file, index=False, engine='openpyxl')\n",
        "\n",
        "print(\"Data has been separated and saved to '{}'.\".format(output_file))\n"
      ],
      "metadata": {
        "id": "OKbZLklgLwpn"
      },
      "execution_count": null,
      "outputs": []
    },
    {
      "cell_type": "code",
      "source": [
        "# Function to handle null and missing values\n",
        "def handle_missing_values(df):\n",
        "    # Iterate over the columns and handle null values\n",
        "    for col in df.columns[2:]:\n",
        "        # Calculate the mean and median\n",
        "        mean_val = df[col].mean()\n",
        "        median_val = df[col].median()\n",
        "\n",
        "        # Check for outliers using the interquartile range (IQR)\n",
        "        q1 = df[col].quantile(0.25)\n",
        "        q3 = df[col].quantile(0.75)\n",
        "        iqr = q3 - q1\n",
        "        lower_bound = q1 - 1.5 * iqr\n",
        "        upper_bound = q3 + 1.5 * iqr\n",
        "\n",
        "        # Replace null values based on outliers, skewness, and missing data impact\n",
        "        if lower_bound <= median_val <= upper_bound:\n",
        "            # No significant outliers, use the mean\n",
        "            df[col].fillna(mean_val, inplace=True)\n",
        "        else:\n",
        "            # Outliers present, use the median\n",
        "            df[col].fillna(median_val, inplace=True)\n",
        "\n",
        "    return df\n",
        "\n",
        "# Load the existing CPI_updated.xlsx file\n",
        "file_path = 'file_path'\n",
        "excel_file = pd.ExcelFile(file_path)\n",
        "\n",
        "# Get the first sheet name\n",
        "sheet_name = excel_file.sheet_names[0]\n",
        "\n",
        "# Read the first sheet into a DataFrame\n",
        "df_monthly = excel_file.parse(sheet_name)\n",
        "\n",
        "# Handle null and missing values\n",
        "df_monthly = handle_missing_values(df_monthly)\n",
        "\n",
        "# Save the updated data back to the first sheet of the existing file\n",
        "with pd.ExcelWriter(file_path, engine='openpyxl') as writer:\n",
        "    df_monthly.to_excel(writer, sheet_name=sheet_name, index=False)\n",
        "\n",
        "print(f\"Null and missing values replaced in the '{sheet_name}' sheet of {file_path}.\")"
      ],
      "metadata": {
        "id": "3fWuLImc__wy"
      },
      "execution_count": null,
      "outputs": []
    },
    {
      "cell_type": "code",
      "source": [
        "# Read the Excel file\n",
        "df = pd.read_excel('file_path')\n",
        "\n",
        "# Get the country columns (excluding the first three columns)\n",
        "country_columns = df.columns[3:]\n",
        "\n",
        "# Reshape the DataFrame to have 'Country' as a column and other columns as values\n",
        "df = df.melt(id_vars=['year', 'quarter', 'month'], value_vars=country_columns, var_name='Country', value_name='Data')\n",
        "\n",
        "# Convert the file format to CSV and save it\n",
        "df.to_csv('file_path.csv', index=False)"
      ],
      "metadata": {
        "id": "FzMkjuf-MffA"
      },
      "execution_count": 11,
      "outputs": []
    }
  ]
}